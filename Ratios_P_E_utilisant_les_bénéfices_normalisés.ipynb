{
  "nbformat": 4,
  "nbformat_minor": 0,
  "metadata": {
    "colab": {
      "name": "Ratios_P/E_utilisant_les_bénéfices_normalisés.ipynb",
      "provenance": [],
      "collapsed_sections": []
    },
    "kernelspec": {
      "name": "python3",
      "display_name": "Python 3"
    },
    "language_info": {
      "name": "python"
    }
  },
  "cells": [
    {
      "cell_type": "code",
      "metadata": {
        "id": "adEFmEmCG6jP"
      },
      "source": [
        "import pandas as pd\n",
        "import requests\n",
        "api_key = 'e22c368541904516c60dfa05148ef976'\n",
        "company = 'MSFT'\n",
        "eps = requests.get(f'https://financialmodelingprep.com/api/v3/income-statement/{company}?limit=12&apikey={api_key}').json()\n",
        "eps = eps[:8]\n",
        "\n",
        "analysis_data = {}\n",
        "for item in eps:\n",
        "  analysis_data[item['date']] = {}\n",
        "  analysis_data[item['date']]['eps'] =  item['epsdiluted']\n",
        "  \n",
        "analysis_data\n",
        "\n",
        "key_metrics = requests.get(f'https://financialmodelingprep.com/api/v3/key-metrics/{company}?limit=10&apikey={api_key}').json()\n",
        "key_metrics = key_metrics[:8]\n",
        "for item in key_metrics:\n",
        "  analysis_data[item['date']]['BVPS'] = item['bookValuePerShare']\n",
        "  analysis_data[item['date']]['ROE'] = item['roe']\n",
        "  analysis_data[item['date']]['PE'] = item['peRatio']\n",
        "\n",
        "\n",
        "normalized_EPS = pd.DataFrame(analysis_data)\n",
        "normalized_EPS"
      ],
      "execution_count": null,
      "outputs": []
    },
    {
      "cell_type": "code",
      "metadata": {
        "id": "1ZzCgEG2Eh5K"
      },
      "source": [
        "import pandas as pd\n",
        "import requests\n",
        "api_key = 'e22c368541904516c60dfa05148ef976'\n",
        "company = 'MSFT'\n",
        "eps = requests.get(f'https://financialmodelingprep.com/api/v3/income-statement/{company}?limit=12&apikey={api_key}').json()\n",
        "eps = eps[:8]\n",
        "\n",
        "analysis_data = {}\n",
        "for item in eps:\n",
        "  analysis_data[item['date']] = {}\n",
        "  analysis_data[item['date']]['eps'] =  item['epsdiluted']\n",
        "  \n",
        "analysis_data\n",
        "\n",
        "key_metrics = requests.get(f'https://financialmodelingprep.com/api/v3/key-metrics/{company}?limit=10&apikey={api_key}').json()\n",
        "key_metrics = key_metrics[:8]\n",
        "for item in key_metrics:\n",
        "  analysis_data[item['date']]['BVPS'] = item['bookValuePerShare']\n",
        "  analysis_data[item['date']]['ROE'] = item['roe']\n",
        "  analysis_data[item['date']]['PE'] = item['peRatio']\n",
        "\n",
        "\n",
        "normalized_EPS = pd.DataFrame(analysis_data)\n",
        "normalized_EPS\n",
        "\n",
        "normalize_mean = normalized_EPS.mean(axis=1)\n",
        "eps_average = normalize_mean['eps']\n",
        "roe_average = normalize_mean['ROE']\n",
        "latest_BVPS = normalized_EPS.iloc[1:2,0][0]\n",
        "\n",
        "price= requests.get(f'https://financialmodelingprep.com/api/v3/profile/{company}?apikey={api_key}').json()\n",
        "price = price[0]['price']\n",
        "\n",
        "PEnormalized_average_eps = price/eps_average\n",
        "print(PEnormalized_average_eps)\n",
        "\n",
        "normalized_eps_average_ROE = roe_average*latest_BVPS\n",
        "PEnormalized_ROE_EPS = price/normalized_eps_average_ROE\n",
        "print(PEnormalized_ROE_EPS)"
      ],
      "execution_count": null,
      "outputs": []
    }
  ]
}