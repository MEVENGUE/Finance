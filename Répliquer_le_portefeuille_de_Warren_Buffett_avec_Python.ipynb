{
  "nbformat": 4,
  "nbformat_minor": 0,
  "metadata": {
    "colab": {
      "name": "Répliquer_le_portefeuille_de_Warren_Buffett_avec_Python.ipynb",
      "provenance": []
    },
    "kernelspec": {
      "name": "python3",
      "display_name": "Python 3"
    },
    "language_info": {
      "name": "python"
    }
  },
  "cells": [
    {
      "cell_type": "code",
      "metadata": {
        "id": "0m6N_u-tKCdG"
      },
      "source": [
        "import requests\n",
        "api_key = 'e22c368541904516c60dfa05148ef976'\n",
        "cik = requests.get(f'https://financialmodelingprep.com/api/v3/cik-search/BERKSHIRE HATHAWAY?apikey={api_key}').json()\n",
        "cik = cik[0]['cik']\n",
        "print(cik)"
      ],
      "execution_count": null,
      "outputs": []
    },
    {
      "cell_type": "code",
      "metadata": {
        "id": "Ay3Ef6YSP1YN"
      },
      "source": [
        "latest_filing = requests.get(f'https://financialmodelingprep.com/api/v3/form-thirteen-date/{cik}?apikey={api_key}').json()\n",
        "latest_filing = latest_filing[0]\n",
        "print(latest_filing)"
      ],
      "execution_count": null,
      "outputs": []
    },
    {
      "cell_type": "code",
      "metadata": {
        "id": "gRRmuGFPP6Ts"
      },
      "source": [
        "form_13 = requests.get(f'https://financialmodelingprep.com/api/v3/form-thirteen/{cik}?date={latest_filing}&apikey={api_key}').json()\n",
        "print(form_13)"
      ],
      "execution_count": null,
      "outputs": []
    },
    {
      "cell_type": "code",
      "metadata": {
        "id": "pp5_zWTXQD3V"
      },
      "source": [
        "total_portfolio_value = 0\n",
        "#1 Loop through each of the positions and compute total portfolio value\n",
        "for item in form_13:\n",
        " total_portfolio_value = total_portfolio_value + float(item['value'])\n",
        "print(total_portfolio_value)"
      ],
      "execution_count": null,
      "outputs": []
    },
    {
      "cell_type": "code",
      "metadata": {
        "id": "oHKD-rriQKq2"
      },
      "source": [
        "allocation = {}\n",
        "\n",
        "for item in form_13:\n",
        " allocation[item['tickercusip']] = {}\n",
        " allocation[item['tickercusip']]['value'] = item['value']\n",
        " allocation[item['tickercusip']]['perc_position'] = item['value'] / total_portfolio_value\n",
        " ticker = item['tickercusip']\n",
        " prices = requests.get(f'https://financialmodelingprep.com/api/v3/historical-price-full/{ticker}?serietype=line&apikey={api_key}').json()\n",
        " #price_50_days ago\n",
        " try:\n",
        "   prices_past = prices['historical'][50]['close']\n",
        "   prices_now = prices['historical'][0]['close']\n",
        "   return_stock = (prices_now - prices_past)/prices_past\n",
        "   allocation[item['tickercusip']]['return'] = float(return_stock)\n",
        "  \n",
        " except:\n",
        "   allocation[item['tickercusip']]['return'] = 0\n",
        "print(allocation)\n",
        " "
      ],
      "execution_count": null,
      "outputs": []
    },
    {
      "cell_type": "code",
      "metadata": {
        "id": "RpcQ9THPQgFB"
      },
      "source": [
        "#calculate total return of portfolio for the last 50 days\n",
        "\n",
        "total_return = 0\n",
        "for item in allocation:\n",
        " total_return = total_return + (allocation[item]['perc_position'] * allocation[item]['return'] )\n",
        " \n",
        "print(total_return)"
      ],
      "execution_count": null,
      "outputs": []
    },
    {
      "cell_type": "code",
      "metadata": {
        "id": "yRIrZlzsQuEU"
      },
      "source": [
        "#compare with SP500\n",
        "\n",
        "SP500 = requests.get(f'https://financialmodelingprep.com/api/v3/historical-price-full/^GSPC?serietype=line&apikey={api_key}').json()\n",
        "SP500_past = SP500['historical'][50]['close']\n",
        "SP500_today = SP500['historical'][0]['close']\n",
        "return_sp500 = (SP500_today - SP500_past)/SP500_past\n",
        "\n",
        "print(return_sp500)"
      ],
      "execution_count": null,
      "outputs": []
    }
  ]
}