{
  "nbformat": 4,
  "nbformat_minor": 0,
  "metadata": {
    "colab": {
      "name": "PlottingS&P500daily.ipynb",
      "provenance": []
    },
    "kernelspec": {
      "name": "python3",
      "display_name": "Python 3"
    },
    "language_info": {
      "name": "python"
    }
  },
  "cells": [
    {
      "cell_type": "code",
      "metadata": {
        "id": "pztJajEk4zOb"
      },
      "source": [
        "import pandas as pd\n",
        "pd.core.common.is_list_like = pd.api.types.is_list_like\n",
        "\n",
        "import pandas_datareader.data as web\n",
        "\n",
        "import datetime\n",
        "\n",
        "start = datetime.datetime(2010,1,1)\n",
        "end = datetime.datetime(2021,11,11)\n",
        "\n",
        "sp500 = web.DataReader(['sp500'],'fred', start,end)\n",
        "sp500"
      ],
      "execution_count": null,
      "outputs": []
    },
    {
      "cell_type": "code",
      "metadata": {
        "id": "A2OGLUVx88Zc"
      },
      "source": [
        "sp500.dropna(inplace=True)\n",
        "sp500['daily_return'] = (sp500['sp500']/sp500['sp500'].shift(1)) -1\n",
        "\n",
        "sp500['daily_return'].plot(title='sp500 daily returns')"
      ],
      "execution_count": null,
      "outputs": []
    },
    {
      "cell_type": "code",
      "metadata": {
        "id": "vJfCS2oz-X1A"
      },
      "source": [
        "sp500['sp500'].plot(title='S&P 500 price')"
      ],
      "execution_count": null,
      "outputs": []
    }
  ]
}