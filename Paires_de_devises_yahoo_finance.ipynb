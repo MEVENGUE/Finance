{
  "nbformat": 4,
  "nbformat_minor": 0,
  "metadata": {
    "colab": {
      "name": "Paires_de_devises_yahoo_finance.ipynb",
      "provenance": []
    },
    "kernelspec": {
      "name": "python3",
      "display_name": "Python 3"
    },
    "language_info": {
      "name": "python"
    }
  },
  "cells": [
    {
      "cell_type": "code",
      "metadata": {
        "id": "4qybc5TA_sgv"
      },
      "source": [
        "!pip install yfinance\n",
        "\n",
        "import yfinance as yf\n",
        "\n",
        "Eur_usd = yf.Ticker(\"EURUSD=X\")\n",
        "hist = Eur_usd.history(period=\"max\")\n",
        "print(hist.head())\n",
        "print(hist.tail())"
      ],
      "execution_count": null,
      "outputs": []
    },
    {
      "cell_type": "code",
      "metadata": {
        "id": "mdJWbSJiB_w_"
      },
      "source": [
        "print(hist['Close'].describe())"
      ],
      "execution_count": null,
      "outputs": []
    },
    {
      "cell_type": "code",
      "metadata": {
        "id": "i2HbEv6gCRCI"
      },
      "source": [
        "print(hist[['Close']].idxmax())"
      ],
      "execution_count": null,
      "outputs": []
    },
    {
      "cell_type": "code",
      "metadata": {
        "id": "5CckGPbUCzof"
      },
      "source": [
        "print(hist[['Close']].idxmin())"
      ],
      "execution_count": null,
      "outputs": []
    },
    {
      "cell_type": "code",
      "metadata": {
        "id": "ZSTTa94fC25S"
      },
      "source": [
        "import yfinance as yf\n",
        "\n",
        "Eur_usd = yf.Ticker(\"EURUSD=X\")\n",
        "hist = Eur_usd.history(period=\"max\")\n",
        "print(hist[-200:])"
      ],
      "execution_count": null,
      "outputs": []
    },
    {
      "cell_type": "code",
      "metadata": {
        "id": "TRqKP4f6DNr0"
      },
      "source": [
        "print(hist[-200:]['Close'].describe())"
      ],
      "execution_count": null,
      "outputs": []
    },
    {
      "cell_type": "code",
      "metadata": {
        "id": "WvzsU5PnDejc"
      },
      "source": [
        "hist[-200:]['Close'].plot()"
      ],
      "execution_count": null,
      "outputs": []
    },
    {
      "cell_type": "code",
      "metadata": {
        "id": "0kPKA4d9Dq0N"
      },
      "source": [
        "hist['Close'].plot()"
      ],
      "execution_count": null,
      "outputs": []
    }
  ]
}