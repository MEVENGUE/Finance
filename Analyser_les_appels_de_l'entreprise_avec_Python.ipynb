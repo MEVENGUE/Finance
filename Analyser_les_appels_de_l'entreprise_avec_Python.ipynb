{
  "nbformat": 4,
  "nbformat_minor": 0,
  "metadata": {
    "colab": {
      "name": "Analyser les appels de l'entreprise avec Python.ipynb",
      "provenance": []
    },
    "kernelspec": {
      "name": "python3",
      "display_name": "Python 3"
    },
    "language_info": {
      "name": "python"
    }
  },
  "cells": [
    {
      "cell_type": "code",
      "metadata": {
        "id": "BP-Ez6Gg3oJ2"
      },
      "source": [
        "import requests\n",
        "import pandas as pd\n",
        "\n",
        "#demo= 'your api key'\n",
        "demo='e22c368541904516c60dfa05148ef976'\n",
        "company = 'AAPL'\n",
        "\n",
        "transcript = requests.get(f'https://financialmodelingprep.com/api/v3/earning_call_transcript/{company}?quarter=3&year=2020&apikey={demo}').json()\n",
        "\n",
        "transcript = transcript[0]['content'].spit('\\n')\n",
        "print(transcript)"
      ],
      "execution_count": null,
      "outputs": []
    },
    {
      "cell_type": "code",
      "metadata": {
        "id": "LHMO70F13x-D"
      },
      "source": [
        "earnings_call = pd.DataFrame(transcript,columns=['content'])\n",
        "word_to_analyze = 'expect'\n",
        "\n",
        "analysis = earnings_call[earnings_call['content'].str.contains(word_to_analyze)]\n",
        "text_earnings = analysis['content'].values"
      ],
      "execution_count": 19,
      "outputs": []
    },
    {
      "cell_type": "code",
      "metadata": {
        "colab": {
          "base_uri": "https://localhost:8080/"
        },
        "id": "8BZIozze3y_k",
        "outputId": "3a1c730d-a4d7-4903-d06c-7497e88e5e14"
      },
      "source": [
        "print(text_earnings"
      ],
      "execution_count": 20,
      "outputs": [
        {
          "output_type": "stream",
          "name": "stdout",
          "text": [
            "[]\n"
          ]
        }
      ]
    },
    {
      "cell_type": "code",
      "metadata": {
        "id": "vj_oAM10367V"
      },
      "source": [
        "for text in text_earnings:\n",
        "  for phrase in text.split('. '):\n",
        "    if word_to_analyze in phrase:\n",
        "      print(phrase)\n",
        "      print()"
      ],
      "execution_count": 21,
      "outputs": []
    }
  ]
}