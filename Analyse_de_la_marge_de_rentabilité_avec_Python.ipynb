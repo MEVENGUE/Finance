{
  "nbformat": 4,
  "nbformat_minor": 0,
  "metadata": {
    "colab": {
      "name": "Analyse_de_la_marge_de_rentabilité_avec_Python.ipynb",
      "provenance": []
    },
    "kernelspec": {
      "name": "python3",
      "display_name": "Python 3"
    },
    "language_info": {
      "name": "python"
    }
  },
  "cells": [
    {
      "cell_type": "code",
      "metadata": {
        "id": "Bwl2o7vPH4GX"
      },
      "source": [
        "import requests\n",
        "import pandas as pd \n",
        "stock = 'AAPL'\n",
        "\n",
        "api_key = 'e22c368541904516c60dfa05148ef976'\n",
        "url = f'https://financialmodelingprep.com/api/v4/stock_peers?symbol={stock}&apikey={api_key}'\n",
        "\n",
        "#1 GET LIST OF PEERS\n",
        "peers = requests.get(url).json()\n",
        "peers = peers[0]['peersList']\n",
        "\n",
        "profitability_ratios = {}\n",
        "#2 Retrieve Profitability Ratios for each of the peers\n",
        "for stock in peers:\n",
        "  #3 Add to Python Dictionary\n",
        "  profitability_ratios[stock] = {}\n",
        "  fr = f'https://financialmodelingprep.com/api/v3/ratios-ttm/{stock}?apikey={api_key}'\n",
        "  financial_ratios_ttm = requests.get(fr).json()\n",
        "  profitability_ratios[stock]['Return on Assets'] = financial_ratios_ttm[0]['returnOnAssetsTTM']\n",
        "  profitability_ratios[stock]['Return on Equity'] = financial_ratios_ttm[0]['returnOnEquityTTM']\n",
        "  profitability_ratios[stock]['Gross Profit Margin'] = financial_ratios_ttm[0]['grossProfitMarginTTM']\n",
        "  profitability_ratios[stock]['Opearting Profit Margin'] = financial_ratios_ttm[0]['operatingProfitMarginTTM']\n",
        "  profitability_ratios[stock]['Net Profit Margin'] = financial_ratios_ttm[0]['netProfitMarginTTM']\n",
        "\n",
        "#4 Convert into Pandas DataFrame\n",
        "profitability_ratios = pd.DataFrame(profitability_ratios)\n",
        "profitability_ratios"
      ],
      "execution_count": null,
      "outputs": []
    }
  ]
}