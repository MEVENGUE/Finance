{
  "nbformat": 4,
  "nbformat_minor": 0,
  "metadata": {
    "colab": {
      "name": "Flux de trésorerie actualisés avec Python - Valoriser une entreprise.ipynb",
      "provenance": []
    },
    "kernelspec": {
      "name": "python3",
      "display_name": "Python 3"
    },
    "language_info": {
      "name": "python"
    }
  },
  "cells": [
    {
      "cell_type": "markdown",
      "metadata": {
        "id": "DNlvs2ZPPu6m"
      },
      "source": [
        "## A. Estimation de la croissance future des revenus"
      ]
    },
    {
      "cell_type": "code",
      "metadata": {
        "colab": {
          "base_uri": "https://localhost:8080/"
        },
        "id": "piceDMpDOjJV",
        "outputId": "d9e98075-1f0d-4544-9e0c-68b720d41459"
      },
      "source": [
        "import requests\n",
        "import numpy as np\n",
        "import pandas as pd\n",
        "\n",
        "company = 'GOOG'\n",
        "demo = 'e22c368541904516c60dfa05148ef976'\n",
        "IS = requests.get(f'https://financialmodelingprep.com/api/v3/income-statement/{company}?apikey={demo}').json()\n",
        "count = 0\n",
        "#get revenue growth to estimate future sales\n",
        "revenue_g = []\n",
        "for item in IS:\n",
        "  if count < 4:\n",
        "    #print(item)\n",
        "    revenue_g.append(item['revenue'])\n",
        "    count = count + 1\n",
        "\n",
        "revenue_g = (revenue_g[0] - revenue_g[1]) /revenue_g[1] \n",
        "print(revenue_g)"
      ],
      "execution_count": 2,
      "outputs": [
        {
          "output_type": "stream",
          "name": "stdout",
          "text": [
            "0.12770532012826136\n"
          ]
        }
      ]
    },
    {
      "cell_type": "markdown",
      "metadata": {
        "id": "PMO7hMFQP4F6"
      },
      "source": [
        "## B. Récupération du compte de résultat et du bilan"
      ]
    },
    {
      "cell_type": "code",
      "metadata": {
        "id": "wQrycwi5OsfT"
      },
      "source": [
        "#Get net income\n",
        "net_income = IS[0]['netIncome']\n",
        "\n",
        "BS = requests.get(f'https://financialmodelingprep.com/api/v3/balance-sheet-statement/{company}?apikey={demo}').json()\n",
        "\n",
        "#get income statement as % of revenue for future predictions and forecast 5 next IS years\n",
        "income_statement = pd.DataFrame.from_dict(IS[0],orient='index')\n",
        "#The [5:26] below get rids of not needed items coming from the API\n",
        "income_statement = income_statement[5:26]\n",
        "income_statement.columns = ['current_year']\n",
        "income_statement['as_%_of_revenue'] = income_statement / income_statement.iloc[0]\n",
        "\n",
        "#forecasting 5 next years income statement\n",
        "income_statement['next_year'] =  (income_statement['current_year']['revenue'] * (1+revenue_g)) * income_statement['as_%_of_revenue'] \n",
        "income_statement['next_2_year'] =  (income_statement['next_year']['revenue'] * (1+revenue_g)) * income_statement['as_%_of_revenue'] \n",
        "income_statement['next_3_year'] =  (income_statement['next_2_year']['revenue'] * (1+revenue_g)) * income_statement['as_%_of_revenue'] \n",
        "income_statement['next_4_year'] =  (income_statement['next_3_year']['revenue'] * (1+revenue_g)) * income_statement['as_%_of_revenue'] \n",
        "income_statement['next_5_year'] =  (income_statement['next_4_year']['revenue'] * (1+revenue_g)) * income_statement['as_%_of_revenue'] \n",
        "\n",
        "#Get Balance sheet as a percentage of revenue\n",
        "balance_sheet = pd.DataFrame.from_dict(BS[0],orient='index')\n",
        "balance_sheet = balance_sheet[5:-2]\n",
        "balance_sheet.columns = ['current_year']\n",
        "balance_sheet['as_%_of_revenue'] = balance_sheet / income_statement['current_year'].iloc[0]\n",
        "\n",
        "#forecasting the next 5 years Balance Sheet.\n",
        "balance_sheet['next_year'] =  income_statement['next_year'] ['revenue'] * balance_sheet['as_%_of_revenue']\n",
        "balance_sheet['next_2_year'] =  income_statement['next_2_year'] ['revenue'] * balance_sheet['as_%_of_revenue']\n",
        "balance_sheet['next_3_year'] =  income_statement['next_3_year']['revenue'] * balance_sheet['as_%_of_revenue'] \n",
        "balance_sheet['next_4_year'] =  income_statement['next_4_year']['revenue']  * balance_sheet['as_%_of_revenue'] \n",
        "balance_sheet['next_5_year'] =  income_statement['next_5_year']['revenue'] * balance_sheet['as_%_of_revenue']"
      ],
      "execution_count": null,
      "outputs": []
    },
    {
      "cell_type": "markdown",
      "metadata": {
        "id": "Sgfwv_4vQA-Y"
      },
      "source": [
        "## C. Prévision des flux de trésorerie futurs liés aux opérations"
      ]
    },
    {
      "cell_type": "code",
      "metadata": {
        "id": "CLB13SESO6GI"
      },
      "source": [
        "CF_forecast = {}\n",
        "CF_forecast['next_year'] = {}\n",
        "CF_forecast['next_year']['netIncome'] = income_statement['next_year']['netIncome']\n",
        "CF_forecast['next_year']['inc_depreciation'] = income_statement['next_year']['depreciationAndAmortization']\n",
        "CF_forecast['next_year']['inc_receivables'] = balance_sheet['next_year']['netReceivables'] - balance_sheet['current_year']['netReceivables']\n",
        "CF_forecast['next_year']['inc_inventory'] = balance_sheet['next_year']['inventory'] - balance_sheet['current_year']['inventory']\n",
        "CF_forecast['next_year']['inc_payables'] = balance_sheet['next_year']['accountPayables'] - balance_sheet['current_year']['accountPayables']\n",
        "CF_forecast['next_year']['CF_operations'] = CF_forecast['next_year']['netIncome'] + CF_forecast['next_year']['inc_depreciation'] + (CF_forecast['next_year']['inc_receivables'] * -1) + (CF_forecast['next_year']['inc_inventory'] *-1) + CF_forecast['next_year']['inc_payables']\n",
        "CF_forecast['next_year']['CAPEX'] = balance_sheet['next_year']['propertyPlantEquipmentNet'] - balance_sheet['current_year']['propertyPlantEquipmentNet'] + income_statement['next_year']['depreciationAndAmortization']\n",
        "\n",
        "CF_forecast['next_year']['FCF'] = CF_forecast['next_year']['CAPEX'] + CF_forecast['next_year']['CF_operations']\n",
        "\n",
        "\n",
        "CF_forecast['next_2_year'] = {}\n",
        "CF_forecast['next_2_year']['netIncome'] = income_statement['next_2_year']['netIncome']\n",
        "\n",
        "CF_forecast['next_2_year']['inc_depreciation'] = income_statement['next_2_year']['depreciationAndAmortization']\n",
        "CF_forecast['next_2_year']['inc_receivables'] = balance_sheet['next_2_year']['netReceivables'] - balance_sheet['next_year']['netReceivables']\n",
        "CF_forecast['next_2_year']['inc_inventory'] = balance_sheet['next_2_year']['inventory'] - balance_sheet['next_year']['inventory']\n",
        "CF_forecast['next_2_year']['inc_payables'] = balance_sheet['next_2_year']['accountPayables'] - balance_sheet['next_year']['accountPayables']\n",
        "CF_forecast['next_2_year']['CF_operations'] = CF_forecast['next_2_year']['netIncome'] + CF_forecast['next_2_year']['inc_depreciation'] + (CF_forecast['next_2_year']['inc_receivables'] * -1) + (CF_forecast['next_2_year']['inc_inventory'] *-1) + CF_forecast['next_2_year']['inc_payables']\n",
        "CF_forecast['next_2_year']['CAPEX'] = balance_sheet['next_2_year']['propertyPlantEquipmentNet'] - balance_sheet['next_year']['propertyPlantEquipmentNet'] + income_statement['next_2_year']['depreciationAndAmortization']\n",
        "CF_forecast['next_2_year']['FCF'] = CF_forecast['next_2_year']['CAPEX'] + CF_forecast['next_2_year']['CF_operations']\n",
        "\n",
        "\n",
        "CF_forecast['next_3_year'] = {}\n",
        "CF_forecast['next_3_year']['netIncome'] = income_statement['next_3_year']['netIncome']\n",
        "\n",
        "CF_forecast['next_3_year']['inc_depreciation'] = income_statement['next_3_year']['depreciationAndAmortization'] \n",
        "CF_forecast['next_3_year']['inc_receivables'] = balance_sheet['next_3_year']['netReceivables'] - balance_sheet['next_2_year']['netReceivables']\n",
        "CF_forecast['next_3_year']['inc_inventory'] = balance_sheet['next_3_year']['inventory'] - balance_sheet['next_2_year']['inventory']\n",
        "CF_forecast['next_3_year']['inc_payables'] = balance_sheet['next_3_year']['accountPayables'] - balance_sheet['next_2_year']['accountPayables']\n",
        "CF_forecast['next_3_year']['CF_operations'] = CF_forecast['next_3_year']['netIncome'] + CF_forecast['next_3_year']['inc_depreciation'] + (CF_forecast['next_3_year']['inc_receivables'] * -1) + (CF_forecast['next_3_year']['inc_inventory'] *-1) + CF_forecast['next_3_year']['inc_payables']\n",
        "CF_forecast['next_3_year']['CAPEX'] = balance_sheet['next_3_year']['propertyPlantEquipmentNet'] - balance_sheet['next_2_year']['propertyPlantEquipmentNet'] + income_statement['next_3_year']['depreciationAndAmortization']\n",
        "CF_forecast['next_3_year']['FCF'] = CF_forecast['next_3_year']['CAPEX'] + CF_forecast['next_3_year']['CF_operations']\n",
        "\n",
        "\n",
        "CF_forecast['next_4_year'] = {}\n",
        "CF_forecast['next_4_year']['netIncome'] = income_statement['next_4_year']['netIncome']\n",
        "\n",
        "CF_forecast['next_4_year']['inc_depreciation'] = income_statement['next_4_year']['depreciationAndAmortization']\n",
        "CF_forecast['next_4_year']['inc_receivables'] = balance_sheet['next_4_year']['netReceivables'] - balance_sheet['next_3_year']['netReceivables']\n",
        "CF_forecast['next_4_year']['inc_inventory'] = balance_sheet['next_4_year']['inventory'] - balance_sheet['next_3_year']['inventory']\n",
        "CF_forecast['next_4_year']['inc_payables'] = balance_sheet['next_4_year']['accountPayables'] - balance_sheet['next_3_year']['accountPayables']\n",
        "CF_forecast['next_4_year']['CF_operations'] = CF_forecast['next_4_year']['netIncome'] + CF_forecast['next_4_year']['inc_depreciation'] + (CF_forecast['next_4_year']['inc_receivables'] * -1) + (CF_forecast['next_4_year']['inc_inventory'] *-1) + CF_forecast['next_4_year']['inc_payables']\n",
        "CF_forecast['next_4_year']['CAPEX'] = balance_sheet['next_4_year']['propertyPlantEquipmentNet'] - balance_sheet['next_3_year']['propertyPlantEquipmentNet'] + income_statement['next_4_year']['depreciationAndAmortization']\n",
        "CF_forecast['next_4_year']['FCF'] = CF_forecast['next_4_year']['CAPEX'] + CF_forecast['next_4_year']['CF_operations']\n",
        "\n",
        "CF_forecast['next_5_year'] = {}\n",
        "CF_forecast['next_5_year']['netIncome'] = income_statement['next_5_year']['netIncome']\n",
        "\n",
        "CF_forecast['next_5_year']['inc_depreciation'] = income_statement['next_5_year']['depreciationAndAmortization'] \n",
        "CF_forecast['next_5_year']['inc_receivables'] = balance_sheet['next_5_year']['netReceivables'] - balance_sheet['next_4_year']['netReceivables']\n",
        "CF_forecast['next_5_year']['inc_inventory'] = balance_sheet['next_5_year']['inventory'] - balance_sheet['next_4_year']['inventory']\n",
        "CF_forecast['next_5_year']['inc_payables'] = balance_sheet['next_5_year']['accountPayables'] - balance_sheet['next_4_year']['accountPayables']\n",
        "CF_forecast['next_5_year']['CF_operations'] = CF_forecast['next_5_year']['netIncome'] + CF_forecast['next_5_year']['inc_depreciation'] + (CF_forecast['next_5_year']['inc_receivables'] * -1) + (CF_forecast['next_5_year']['inc_inventory'] *-1) + CF_forecast['next_5_year']['inc_payables']\n",
        "CF_forecast['next_5_year']['CAPEX'] = balance_sheet['next_5_year']['propertyPlantEquipmentNet'] - balance_sheet['next_4_year']['propertyPlantEquipmentNet'] + income_statement['next_5_year']['depreciationAndAmortization']\n",
        "CF_forecast['next_5_year']['FCF'] = CF_forecast['next_5_year']['CAPEX'] + CF_forecast['next_5_year']['CF_operations']"
      ],
      "execution_count": null,
      "outputs": []
    },
    {
      "cell_type": "markdown",
      "metadata": {
        "id": "nd04SFrSQHlr"
      },
      "source": [
        "## D. Convertir les flux de trésorerie disponibles prévus en pandas\n"
      ]
    },
    {
      "cell_type": "code",
      "metadata": {
        "colab": {
          "base_uri": "https://localhost:8080/"
        },
        "id": "gpimVFkqO7k6",
        "outputId": "a482b968-dad0-43f6-ea10-628406cad00c"
      },
      "source": [
        "#add the forecasted cash flows into a Pandas\n",
        "CF_forec = pd.DataFrame.from_dict(CF_forecast,orient='columns')\n",
        "\n",
        "#add below option to format the dataframe with thousand separators\n",
        "pd.options.display.float_format = '{:,.0f}'.format\n",
        "\n",
        "print(CF_forec)"
      ],
      "execution_count": 12,
      "outputs": [
        {
          "output_type": "stream",
          "name": "stdout",
          "text": [
            "Empty DataFrame\n",
            "Columns: [next_year]\n",
            "Index: []\n"
          ]
        }
      ]
    },
    {
      "cell_type": "markdown",
      "metadata": {
        "id": "t-qcewN_QOMr"
      },
      "source": [
        "## E. Estimation du coût du capital\n",
        "Pour actualiser les flux de trésorerie disponibles (FCF) prévisionnels, nous utiliserons la société WACC. Par conséquent, nous devons estimer le coût moyen pondéré du capital (WACC) pour l'entreprise. C'est exactement ce que nous avons fait dans mon post précédent . Par conséquent, je fournirai simplement le code pour calculer le WACC pour l'entreprise. Pour mieux comprendre comment calculer le WACC avec python, référez-vous à mon post précédent ."
      ]
    },
    {
      "cell_type": "code",
      "metadata": {
        "id": "z0373VODPAgF"
      },
      "source": [
        "import pandas_datareader.data as web\n",
        "import datetime\n",
        "import requests\n",
        "\n",
        "\n",
        "demo = 'your api key'\n",
        "#Interest coverage ratio = EBIT / interest expenses\n",
        "\n",
        "def interest_coveraga_and_RF(company):\n",
        "  IS= requests.get(f'https://financialmodelingprep.com/api/v3/income-statement/{company}?apikey={demo}').json()\n",
        "  EBIT= IS[0]['ebitda'] - IS[0]['depreciationAndAmortization'] \n",
        "  interest_expense = IS[0]['interestExpense']\n",
        "  interest_coverage_ratio = EBIT / interest_expense\n",
        "\n",
        "    #RF\n",
        "  start = datetime.datetime(2019, 7, 10)\n",
        "        \n",
        "  end= datetime.datetime.today().strftime('%Y-%m-%d')\n",
        "  #end = datetime.datetime(2020, 7, 10)\n",
        "\n",
        "  Treasury = web.DataReader(['TB1YR'], 'fred', start, end)\n",
        "  RF = float(Treasury.iloc[-1])\n",
        "  RF = RF/100\n",
        "  return [RF,interest_coverage_ratio]\n",
        "  \n",
        "#Cost of debt\n",
        "def cost_of_debt(company, RF,interest_coverage_ratio):\n",
        "  if interest_coverage_ratio > 8.5:\n",
        "    #Rating is AAA\n",
        "    credit_spread = 0.0063\n",
        "  if (interest_coverage_ratio > 6.5) & (interest_coverage_ratio <= 8.5):\n",
        "    #Rating is AA\n",
        "    credit_spread = 0.0078\n",
        "  if (interest_coverage_ratio > 5.5) & (interest_coverage_ratio <=  6.5):\n",
        "    #Rating is A+\n",
        "    credit_spread = 0.0098\n",
        "  if (interest_coverage_ratio > 4.25) & (interest_coverage_ratio <=  5.49):\n",
        "    #Rating is A\n",
        "    credit_spread = 0.0108\n",
        "  if (interest_coverage_ratio > 3) & (interest_coverage_ratio <=  4.25):\n",
        "    #Rating is A-\n",
        "    credit_spread = 0.0122\n",
        "  if (interest_coverage_ratio > 2.5) & (interest_coverage_ratio <=  3):\n",
        "    #Rating is BBB\n",
        "    credit_spread = 0.0156\n",
        "  if (interest_coverage_ratio > 2.25) & (interest_coverage_ratio <=  2.5):\n",
        "    #Rating is BB+\n",
        "    credit_spread = 0.02\n",
        "  if (interest_coverage_ratio > 2) & (interest_coverage_ratio <=  2.25):\n",
        "    #Rating is BB\n",
        "    credit_spread = 0.0240\n",
        "  if (interest_coverage_ratio > 1.75) & (interest_coverage_ratio <=  2):\n",
        "    #Rating is B+\n",
        "    credit_spread = 0.0351\n",
        "  if (interest_coverage_ratio > 1.5) & (interest_coverage_ratio <=  1.75):\n",
        "    #Rating is B\n",
        "    credit_spread = 0.0421\n",
        "  if (interest_coverage_ratio > 1.25) & (interest_coverage_ratio <=  1.5):\n",
        "    #Rating is B-\n",
        "    credit_spread = 0.0515\n",
        "  if (interest_coverage_ratio > 0.8) & (interest_coverage_ratio <=  1.25):\n",
        "    #Rating is CCC\n",
        "    credit_spread = 0.0820\n",
        "  if (interest_coverage_ratio > 0.65) & (interest_coverage_ratio <=  0.8):\n",
        "    #Rating is CC\n",
        "    credit_spread = 0.0864\n",
        "  if (interest_coverage_ratio > 0.2) & (interest_coverage_ratio <=  0.65):\n",
        "    #Rating is C\n",
        "    credit_spread = 0.1134\n",
        "  if interest_coverage_ratio <=  0.2:\n",
        "    #Rating is D\n",
        "    credit_spread = 0.1512\n",
        "  \n",
        "  cost_of_debt = RF + credit_spread\n",
        "  return cost_of_debt\n",
        "\n",
        "\n",
        "def costofequity(company):\n",
        "\n",
        "\n",
        "  #RF\n",
        "  start = datetime.datetime(2019, 7, 10)\n",
        "  end= datetime.datetime.today().strftime('%Y-%m-%d')\n",
        "  #end = datetime.datetime(2020, 7, 10)\n",
        "\n",
        "  Treasury = web.DataReader(['TB1YR'], 'fred', start, end)\n",
        "  RF = float(Treasury.iloc[-1])\n",
        "  RF = RF/100\n",
        "\n",
        "#Beta\n",
        "\n",
        "  beta = requests.get(f'https://financialmodelingprep.com/api/v3/company/profile/{company}?apikey={demo}')\n",
        "  beta = beta.json()\n",
        "  beta = float(beta['profile']['beta'])\n",
        "\n",
        "\n",
        "  #Market Return\n",
        "  start = datetime.datetime(2019, 7, 10)\n",
        "  end= datetime.datetime.today().strftime('%Y-%m-%d')\n",
        "\n",
        "  SP500 = web.DataReader(['sp500'], 'fred', start, end)\n",
        "      #Drop all Not a number values using drop method.\n",
        "  SP500.dropna(inplace = True)\n",
        "\n",
        "  SP500yearlyreturn = (SP500['sp500'].iloc[-1]/ SP500['sp500'].iloc[-252])-1\n",
        "    \n",
        "  cost_of_equity = RF+(beta*(SP500yearlyreturn - RF))\n",
        "  return cost_of_equity\n",
        "\n",
        "#effective tax rate and capital structure\n",
        "def wacc(company):\n",
        "  FR = requests.get(f'https://financialmodelingprep.com/api/v3/ratios/{company}?apikey={demo}').json()\n",
        "\n",
        "  ETR = FR[0]['effectiveTaxRate']\n",
        "\n",
        "# \n",
        "  BS = requests.get(f'https://financialmodelingprep.com/api/v3/balance-sheet-statement/{company}?period=quarter&apikey={demo}').json()\n",
        "\n",
        "\n",
        "\n",
        "  Debt_to = BS[0]['totalDebt'] / (BS[0]['totalDebt'] + BS[0]['totalStockholdersEquity'])\n",
        "  equity_to = BS[0]['totalStockholdersEquity'] / (BS[0]['totalDebt'] + BS[0]['totalStockholdersEquity'])\n",
        "\n",
        "  WACC = (kd*(1-ETR)*Debt_to) + (ke*equity_to)\n",
        "  return WACC\n",
        "\n",
        "RF_and_IntCov = interest_coveraga_and_RF(company)\n",
        "RF = RF_and_IntCov[0]\n",
        "interest_coverage_ratio = RF_and_IntCov[1]\n",
        "ke = costofequity(company)\n",
        "kd = cost_of_debt(company,RF,interest_coverage_ratio)\n",
        "wacc_company = wacc(company)\n",
        "print('wacc of ' + company + ' is ' + str((wacc_company*100))+'%')"
      ],
      "execution_count": null,
      "outputs": []
    },
    {
      "cell_type": "markdown",
      "metadata": {
        "id": "ORIqpyIWQcyZ"
      },
      "source": [
        "## F. Obtenir la valeur actuelle nette des flux de trésorerie disponibles prévus\n",
        "\n",
        "Maintenant que nous avons le WACC de Google et les flux de trésorerie disponibles prévus pour les cinq prochaines années, nous pouvons les actualiser pour connaître la valeur actuelle. Nous pouvons utiliser la méthode numpy npv pour le faire :"
      ]
    },
    {
      "cell_type": "code",
      "metadata": {
        "id": "g5Dy0EtVPKz_"
      },
      "source": [
        "#FCF List of CFs for each year\n",
        "FCF_List = CF_forec.iloc[-1].values.tolist()\n",
        "npv = np.npv(wacc_company,FCF_List)"
      ],
      "execution_count": null,
      "outputs": []
    },
    {
      "cell_type": "markdown",
      "metadata": {
        "id": "mHIOkheoQnd7"
      },
      "source": [
        "## G. Calcul de la valeur terminale\n",
        "La valeur actuelle nette obtenue dans la section F ne couvre que les 5 prochaines années des flux de trésorerie de l'entreprise. Mais que se passe-t-il après ces années prévisionnelles ?\n",
        "\n",
        "Nous devons calculer la valeur terminale de l'entreprise. La valeur terminale saisit la valeur de l'entreprise après la période de prévision . La valeur terminale constituera au moins 50 % de la valeur prévisionnelle. Par conséquent, il est très important de prêter attention aux hypothèses que nous faisons ici.\n",
        "FCFFn sera la dernière année des flux de trésorerie disponibles prévus. Ensuite, nous devons trouver un taux de croissance à l'infini g . Le taux de perpétuité est le taux constant auquel une entreprise devrait croître pour toujours .\n",
        "\n",
        "Nous supposerons un taux de perpétuité de 2% car il est courant d'être en ligne avec le taux d'inflation à long terme qui est généralement d'environ 2%. Ensuite, nous actualisons la valeur en utilisant le taux WACC."
      ]
    },
    {
      "cell_type": "code",
      "metadata": {
        "id": "flopkCCtPPYQ"
      },
      "source": [
        "#Terminal value\n",
        "LTGrowth = 0.02\n",
        "\n",
        "Terminal_value = (CF_forecast['next_5_year']['FCF'] * (1+ LTGrowth)) /(wacc_company  - LTGrowth)\n",
        "\n",
        "Terminal_value_Discounted = Terminal_value/(1+wacc_company)**4\n",
        "Terminal_value_Discounted"
      ],
      "execution_count": null,
      "outputs": []
    },
    {
      "cell_type": "markdown",
      "metadata": {
        "id": "HDiYQPMFQ3nf"
      },
      "source": [
        "## H. Calcul du prix cible de Google\n",
        "Enfin, nous avons tout ce dont nous avons besoin pour valoriser une entreprise en utilisant la méthode des flux de trésorerie actualisés et Python . Nous obtenons la valeur cible des capitaux propres, la dette de l'entreprise et le nombre d'actions."
      ]
    },
    {
      "cell_type": "code",
      "metadata": {
        "id": "MXL7wCfVPV6i"
      },
      "source": [
        "target_equity_value = Terminal_value_Discounted + npv\n",
        "debt = balance_sheet['current_year']['totalDebt']\n",
        "target_value = target_equity_value - debt\n",
        "numbre_of_shares = requests.get(f'https://financialmodelingprep.com/api/v3/enterprise-values/{company}?apikey={demo}').json()\n",
        "numbre_of_shares = numbre_of_shares[0]['numberOfShares']\n",
        "\n",
        "target_price_per_share = target_value/numbre_of_shares\n",
        "target_price_per_share\n",
        "\n",
        "print(company + ' forecasted price per stock is ' + str(target_price_per_share) )\n",
        "print('the forecast is based on the following assumptions: '+ 'revenue growth: ' + str(revenue_g) + ' Cost of Capital: ' + str(wacc_company) )\n",
        "print('perpetuity growth: ' + str(LTGrowth)  )"
      ],
      "execution_count": null,
      "outputs": []
    }
  ]
}