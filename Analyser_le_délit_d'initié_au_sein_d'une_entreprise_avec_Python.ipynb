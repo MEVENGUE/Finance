{
  "nbformat": 4,
  "nbformat_minor": 0,
  "metadata": {
    "colab": {
      "name": "Analyser_le_délit_d'initié_au_sein_d'une_entreprise_avec_Python.ipynb",
      "provenance": [],
      "collapsed_sections": []
    },
    "kernelspec": {
      "name": "python3",
      "display_name": "Python 3"
    },
    "language_info": {
      "name": "python"
    }
  },
  "cells": [
    {
      "cell_type": "code",
      "metadata": {
        "id": "DWI1J5i50cj_"
      },
      "source": [
        "import pandas as pd\n",
        "\n",
        "company = ['AAPL','GME','AMZN','MSFT']\n",
        "\n",
        "insider = pd.DataFrame()\n",
        "for company in companies:\n",
        "     insider1 = pd.read_html(f'http://openinsider.com/screener?s={company}&o=&pl=&ph=&ll=&lh=&fd=730&fdr=&td=0&tdr=&fdlyl=&fdlyh=&daysago=&xp=1&xs=1&vl=&vh=&ocl=&och=&sic1=-1&sicl=100&sich=9999&grp=0&nfl=&nfh=&nil=&nih=&nol=&noh=&v2l=&v2h=&oc2l=&oc2h=&sortcol=0&cnt=500&page=1')\n",
        "     insider1 = insider1[-3]\n",
        "     insider1['company'] = company\n",
        "     insider = pd.concat([insider,insider1])\n",
        "\n",
        "insider.to_csv('insider.csv')"
      ],
      "execution_count": 15,
      "outputs": []
    }
  ]
}