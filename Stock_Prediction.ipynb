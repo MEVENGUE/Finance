{
  "nbformat": 4,
  "nbformat_minor": 5,
  "metadata": {
    "kernelspec": {
      "display_name": "Python 3",
      "language": "python",
      "name": "python3"
    },
    "language_info": {
      "codemirror_mode": {
        "name": "ipython",
        "version": 3
      },
      "file_extension": ".py",
      "mimetype": "text/x-python",
      "name": "python",
      "nbconvert_exporter": "python",
      "pygments_lexer": "ipython3",
      "version": "3.8.10"
    },
    "colab": {
      "name": "Stock_Prediction.ipynb",
      "provenance": []
    }
  },
  "cells": [
    {
      "cell_type": "code",
      "metadata": {
        "id": "KrmaU27YY8-R"
      },
      "source": [
        "import numpy as np\n",
        "import pandas as pd\n",
        "%matplotlib inline\n",
        "import matplotlib.pyplot as plt\n",
        "from sklearn.preprocessing import MinMaxScaler\n",
        "from sklearn.metrics import mean_squared_error, r2_score"
      ],
      "id": "KrmaU27YY8-R",
      "execution_count": 39,
      "outputs": []
    },
    {
      "cell_type": "code",
      "metadata": {
        "id": "K0KdkSp9Y8-e"
      },
      "source": [
        "from tensorflow.keras.models import Sequential\n",
        "from tensorflow.keras.layers import Dense, LSTM, Dropout"
      ],
      "id": "K0KdkSp9Y8-e",
      "execution_count": 40,
      "outputs": []
    },
    {
      "cell_type": "code",
      "metadata": {
        "id": "GeqSmWdEY8-g"
      },
      "source": [
        "df=pd.read_csv('/content/AAPL.csv')"
      ],
      "id": "GeqSmWdEY8-g",
      "execution_count": 43,
      "outputs": []
    },
    {
      "cell_type": "code",
      "metadata": {
        "id": "yt-TVCGqY8-i",
        "outputId": "6a3d8742-0280-46aa-e20f-305cc7d0986c",
        "colab": {
          "base_uri": "https://localhost:8080/",
          "height": 206
        }
      },
      "source": [
        "df.head()"
      ],
      "id": "yt-TVCGqY8-i",
      "execution_count": 44,
      "outputs": [
        {
          "output_type": "execute_result",
          "data": {
            "text/html": [
              "<div>\n",
              "<style scoped>\n",
              "    .dataframe tbody tr th:only-of-type {\n",
              "        vertical-align: middle;\n",
              "    }\n",
              "\n",
              "    .dataframe tbody tr th {\n",
              "        vertical-align: top;\n",
              "    }\n",
              "\n",
              "    .dataframe thead th {\n",
              "        text-align: right;\n",
              "    }\n",
              "</style>\n",
              "<table border=\"1\" class=\"dataframe\">\n",
              "  <thead>\n",
              "    <tr style=\"text-align: right;\">\n",
              "      <th></th>\n",
              "      <th>Date</th>\n",
              "      <th>Open</th>\n",
              "      <th>High</th>\n",
              "      <th>Low</th>\n",
              "      <th>Close</th>\n",
              "      <th>Adj Close</th>\n",
              "      <th>Volume</th>\n",
              "    </tr>\n",
              "  </thead>\n",
              "  <tbody>\n",
              "    <tr>\n",
              "      <th>0</th>\n",
              "      <td>1980-12-12</td>\n",
              "      <td>0.128348</td>\n",
              "      <td>0.128906</td>\n",
              "      <td>0.128348</td>\n",
              "      <td>0.128348</td>\n",
              "      <td>0.100453</td>\n",
              "      <td>469033600</td>\n",
              "    </tr>\n",
              "    <tr>\n",
              "      <th>1</th>\n",
              "      <td>1980-12-15</td>\n",
              "      <td>0.122210</td>\n",
              "      <td>0.122210</td>\n",
              "      <td>0.121652</td>\n",
              "      <td>0.121652</td>\n",
              "      <td>0.095213</td>\n",
              "      <td>175884800</td>\n",
              "    </tr>\n",
              "    <tr>\n",
              "      <th>2</th>\n",
              "      <td>1980-12-16</td>\n",
              "      <td>0.113281</td>\n",
              "      <td>0.113281</td>\n",
              "      <td>0.112723</td>\n",
              "      <td>0.112723</td>\n",
              "      <td>0.088224</td>\n",
              "      <td>105728000</td>\n",
              "    </tr>\n",
              "    <tr>\n",
              "      <th>3</th>\n",
              "      <td>1980-12-17</td>\n",
              "      <td>0.115513</td>\n",
              "      <td>0.116071</td>\n",
              "      <td>0.115513</td>\n",
              "      <td>0.115513</td>\n",
              "      <td>0.090408</td>\n",
              "      <td>86441600</td>\n",
              "    </tr>\n",
              "    <tr>\n",
              "      <th>4</th>\n",
              "      <td>1980-12-18</td>\n",
              "      <td>0.118862</td>\n",
              "      <td>0.119420</td>\n",
              "      <td>0.118862</td>\n",
              "      <td>0.118862</td>\n",
              "      <td>0.093029</td>\n",
              "      <td>73449600</td>\n",
              "    </tr>\n",
              "  </tbody>\n",
              "</table>\n",
              "</div>"
            ],
            "text/plain": [
              "         Date      Open      High       Low     Close  Adj Close     Volume\n",
              "0  1980-12-12  0.128348  0.128906  0.128348  0.128348   0.100453  469033600\n",
              "1  1980-12-15  0.122210  0.122210  0.121652  0.121652   0.095213  175884800\n",
              "2  1980-12-16  0.113281  0.113281  0.112723  0.112723   0.088224  105728000\n",
              "3  1980-12-17  0.115513  0.116071  0.115513  0.115513   0.090408   86441600\n",
              "4  1980-12-18  0.118862  0.119420  0.118862  0.118862   0.093029   73449600"
            ]
          },
          "metadata": {},
          "execution_count": 44
        }
      ]
    },
    {
      "cell_type": "code",
      "metadata": {
        "id": "IQNh7MOYY8-k",
        "outputId": "5b834b61-07d7-4e17-ad12-805aca8ff792",
        "colab": {
          "base_uri": "https://localhost:8080/"
        }
      },
      "source": [
        "df.info()"
      ],
      "id": "IQNh7MOYY8-k",
      "execution_count": 45,
      "outputs": [
        {
          "output_type": "stream",
          "name": "stdout",
          "text": [
            "<class 'pandas.core.frame.DataFrame'>\n",
            "RangeIndex: 10216 entries, 0 to 10215\n",
            "Data columns (total 7 columns):\n",
            " #   Column     Non-Null Count  Dtype  \n",
            "---  ------     --------------  -----  \n",
            " 0   Date       10216 non-null  object \n",
            " 1   Open       10216 non-null  float64\n",
            " 2   High       10216 non-null  float64\n",
            " 3   Low        10216 non-null  float64\n",
            " 4   Close      10216 non-null  float64\n",
            " 5   Adj Close  10216 non-null  float64\n",
            " 6   Volume     10216 non-null  int64  \n",
            "dtypes: float64(5), int64(1), object(1)\n",
            "memory usage: 558.8+ KB\n"
          ]
        }
      ]
    },
    {
      "cell_type": "code",
      "metadata": {
        "id": "RWxDfiqsY8-l"
      },
      "source": [
        "df1 = df.reset_index()['Low']"
      ],
      "id": "RWxDfiqsY8-l",
      "execution_count": 46,
      "outputs": []
    },
    {
      "cell_type": "code",
      "metadata": {
        "id": "S14tcf1tY8-o",
        "outputId": "3da719ec-c934-46bb-d7a8-28738fb3aea6",
        "colab": {
          "base_uri": "https://localhost:8080/"
        }
      },
      "source": [
        "df1"
      ],
      "id": "S14tcf1tY8-o",
      "execution_count": 47,
      "outputs": [
        {
          "output_type": "execute_result",
          "data": {
            "text/plain": [
              "0          0.128348\n",
              "1          0.121652\n",
              "2          0.112723\n",
              "3          0.115513\n",
              "4          0.118862\n",
              "            ...    \n",
              "10211    127.070000\n",
              "10212    129.389999\n",
              "10213    128.460007\n",
              "10214    129.649994\n",
              "10215    130.240005\n",
              "Name: Low, Length: 10216, dtype: float64"
            ]
          },
          "metadata": {},
          "execution_count": 47
        }
      ]
    },
    {
      "cell_type": "code",
      "metadata": {
        "id": "eKf7e-X4Y8-q",
        "outputId": "a931f162-1e79-4826-87a1-1409361f0a8d",
        "colab": {
          "base_uri": "https://localhost:8080/"
        }
      },
      "source": [
        "type(df1)"
      ],
      "id": "eKf7e-X4Y8-q",
      "execution_count": 48,
      "outputs": [
        {
          "output_type": "execute_result",
          "data": {
            "text/plain": [
              "pandas.core.series.Series"
            ]
          },
          "metadata": {},
          "execution_count": 48
        }
      ]
    },
    {
      "cell_type": "code",
      "metadata": {
        "id": "jZsYhHmTY8-s",
        "outputId": "b834255e-0c65-4e30-d8d2-52019e91ba3f",
        "colab": {
          "base_uri": "https://localhost:8080/"
        }
      },
      "source": [
        "np.where(pd.isnull(df1))"
      ],
      "id": "jZsYhHmTY8-s",
      "execution_count": 49,
      "outputs": [
        {
          "output_type": "execute_result",
          "data": {
            "text/plain": [
              "(array([], dtype=int64),)"
            ]
          },
          "metadata": {},
          "execution_count": 49
        }
      ]
    },
    {
      "cell_type": "code",
      "metadata": {
        "id": "773U8n5xY8-v"
      },
      "source": [
        "df1 = df1.dropna()"
      ],
      "id": "773U8n5xY8-v",
      "execution_count": 50,
      "outputs": []
    },
    {
      "cell_type": "code",
      "metadata": {
        "id": "XZ6c86vdY8-w",
        "outputId": "05ce2675-3076-4565-fc18-07436911ff20",
        "colab": {
          "base_uri": "https://localhost:8080/"
        }
      },
      "source": [
        "np.where(pd.isnull(df1))"
      ],
      "id": "XZ6c86vdY8-w",
      "execution_count": 51,
      "outputs": [
        {
          "output_type": "execute_result",
          "data": {
            "text/plain": [
              "(array([], dtype=int64),)"
            ]
          },
          "metadata": {},
          "execution_count": 51
        }
      ]
    },
    {
      "cell_type": "code",
      "metadata": {
        "scrolled": true,
        "id": "m4r6-6LMY8-x",
        "outputId": "0312cee5-31dc-4a88-fb52-deb627a0b3c2",
        "colab": {
          "base_uri": "https://localhost:8080/",
          "height": 485
        }
      },
      "source": [
        "plt.figure(figsize=(20,8))\n",
        "plt.plot(df1)"
      ],
      "id": "m4r6-6LMY8-x",
      "execution_count": 52,
      "outputs": [
        {
          "output_type": "execute_result",
          "data": {
            "text/plain": [
              "[<matplotlib.lines.Line2D at 0x7f14d8c277d0>]"
            ]
          },
          "metadata": {},
          "execution_count": 52
        },
        {
          "output_type": "display_data",
          "data": {
            "image/png": "[encoded data removed]",
            "text/plain": [
              "<Figure size 1440x576 with 1 Axes>"
            ]
          },
          "metadata": {
            "needs_background": "light"
          }
        }
      ]
    },
    {
      "cell_type": "code",
      "metadata": {
        "id": "osW2B1-RY8-y"
      },
      "source": [
        "scaler=MinMaxScaler(feature_range=(0,1))\n",
        "df1=scaler.fit_transform(np.array(df1).reshape(-1,1))"
      ],
      "id": "osW2B1-RY8-y",
      "execution_count": 53,
      "outputs": []
    },
    {
      "cell_type": "code",
      "metadata": {
        "scrolled": true,
        "id": "FTDIMa8pY8-y",
        "outputId": "d8f707f7-49f1-4528-9017-fe9a7e5a5149",
        "colab": {
          "base_uri": "https://localhost:8080/"
        }
      },
      "source": [
        "df1"
      ],
      "id": "FTDIMa8pY8-y",
      "execution_count": 54,
      "outputs": [
        {
          "output_type": "execute_result",
          "data": {
            "text/plain": [
              "array([[5.60716828e-04],\n",
              "       [5.13335297e-04],\n",
              "       [4.50152846e-04],\n",
              "       ...,\n",
              "       [9.08647701e-01],\n",
              "       [9.17068162e-01],\n",
              "       [9.21243136e-01]])"
            ]
          },
          "metadata": {},
          "execution_count": 54
        }
      ]
    },
    {
      "cell_type": "code",
      "metadata": {
        "id": "HLVUhoQrY8-z"
      },
      "source": [
        "training_size=int(len(df1)*0.80)\n",
        "test_size=len(df1)-training_size\n",
        "train_data,test_data=df1[0:training_size,:],df1[training_size:len(df1),:1]"
      ],
      "id": "HLVUhoQrY8-z",
      "execution_count": 55,
      "outputs": []
    },
    {
      "cell_type": "code",
      "metadata": {
        "scrolled": false,
        "id": "z3XmxINEY8-z",
        "outputId": "3da2f375-1fde-4887-829c-d91ad1e40b8f",
        "colab": {
          "base_uri": "https://localhost:8080/"
        }
      },
      "source": [
        "training_size, test_size"
      ],
      "id": "z3XmxINEY8-z",
      "execution_count": 56,
      "outputs": [
        {
          "output_type": "execute_result",
          "data": {
            "text/plain": [
              "(8172, 2044)"
            ]
          },
          "metadata": {},
          "execution_count": 56
        }
      ]
    },
    {
      "cell_type": "code",
      "metadata": {
        "id": "DDyoCZ7QY8-0"
      },
      "source": [
        "def create_dataset(dataset, time_step=1):\n",
        "\tdataX, dataY = [], []\n",
        "\tfor i in range(len(dataset)-time_step-1):\n",
        "\t\ta = dataset[i:(i+time_step), 0] \n",
        "\t\tdataX.append(a)\n",
        "\t\tdataY.append(dataset[i + time_step, 0])\n",
        "\treturn np.array(dataX), np.array(dataY)"
      ],
      "id": "DDyoCZ7QY8-0",
      "execution_count": 57,
      "outputs": []
    },
    {
      "cell_type": "code",
      "metadata": {
        "id": "YUGNHBsvY8-1"
      },
      "source": [
        "time_step = 100\n",
        "X_train, y_train = create_dataset(train_data, time_step)\n",
        "X_test, y_test = create_dataset(test_data, time_step)"
      ],
      "id": "YUGNHBsvY8-1",
      "execution_count": 58,
      "outputs": []
    },
    {
      "cell_type": "code",
      "metadata": {
        "id": "sXtMr2gIY8-2"
      },
      "source": [
        "X_train =X_train.reshape(X_train.shape[0],X_train.shape[1] , 1)\n",
        "X_test = X_test.reshape(X_test.shape[0],X_test.shape[1] , 1)"
      ],
      "id": "sXtMr2gIY8-2",
      "execution_count": 59,
      "outputs": []
    },
    {
      "cell_type": "code",
      "metadata": {
        "id": "whW8Se3bY8-2"
      },
      "source": [
        "model=Sequential()\n",
        "model.add(LSTM(50, activation='relu', return_sequences=True, input_shape=(X_train.shape[1],1)))\n",
        "model.add(Dropout(0.2))\n",
        "model.add(LSTM(50,return_sequences=True))\n",
        "model.add(Dropout(0.2))\n",
        "model.add(LSTM(50))\n",
        "model.add(Dense(1))\n",
        "model.compile(loss='mean_squared_error',optimizer='adam', metrics=['mean_squared_error'])"
      ],
      "id": "whW8Se3bY8-2",
      "execution_count": 60,
      "outputs": []
    },
    {
      "cell_type": "code",
      "metadata": {
        "id": "uxeLG16IY8-3",
        "outputId": "d5c852d2-5791-4500-8a5a-6783bff7dde5",
        "colab": {
          "base_uri": "https://localhost:8080/"
        }
      },
      "source": [
        "model.summary()"
      ],
      "id": "uxeLG16IY8-3",
      "execution_count": 61,
      "outputs": [
        {
          "output_type": "stream",
          "name": "stdout",
          "text": [
            "Model: \"sequential_1\"\n",
            "_________________________________________________________________\n",
            " Layer (type)                Output Shape              Param #   \n",
            "=================================================================\n",
            " lstm_3 (LSTM)               (None, 100, 50)           10400     \n",
            "                                                                 \n",
            " dropout_2 (Dropout)         (None, 100, 50)           0         \n",
            "                                                                 \n",
            " lstm_4 (LSTM)               (None, 100, 50)           20200     \n",
            "                                                                 \n",
            " dropout_3 (Dropout)         (None, 100, 50)           0         \n",
            "                                                                 \n",
            " lstm_5 (LSTM)               (None, 50)                20200     \n",
            "                                                                 \n",
            " dense_1 (Dense)             (None, 1)                 51        \n",
            "                                                                 \n",
            "=================================================================\n",
            "Total params: 50,851\n",
            "Trainable params: 50,851\n",
            "Non-trainable params: 0\n",
            "_________________________________________________________________\n"
          ]
        }
      ]
    },
    {
      "cell_type": "code",
      "metadata": {
        "id": "fexEegz_Y8-3",
        "outputId": "b13b4633-1ba7-4e43-8923-c8af53cd1bca",
        "colab": {
          "base_uri": "https://localhost:8080/"
        }
      },
      "source": [
        "model.fit(X_train,y_train,epochs=100, batch_size=64, shuffle=False)"
      ],
      "id": "fexEegz_Y8-3",
      "execution_count": 62,
      "outputs": [
        {
          "output_type": "stream",
          "name": "stdout",
          "text": [
            "Epoch 1/100\n",
            "127/127 [==============================] - 29s 190ms/step - loss: 1.1636e-04 - mean_squared_error: 1.1636e-04\n",
            "Epoch 2/100\n",
            "127/127 [==============================] - 24s 188ms/step - loss: 4.5971e-04 - mean_squared_error: 4.5971e-04\n",
            "Epoch 3/100\n",
            "127/127 [==============================] - 24s 190ms/step - loss: 3.8690e-04 - mean_squared_error: 3.8690e-04\n",
            "Epoch 4/100\n",
            "127/127 [==============================] - 24s 191ms/step - loss: 3.0908e-04 - mean_squared_error: 3.0908e-04\n",
            "Epoch 5/100\n",
            "127/127 [==============================] - 24s 191ms/step - loss: 3.4245e-04 - mean_squared_error: 3.4245e-04\n",
            "Epoch 6/100\n",
            "127/127 [==============================] - 24s 191ms/step - loss: 4.9374e-04 - mean_squared_error: 4.9374e-04\n",
            "Epoch 7/100\n",
            "127/127 [==============================] - 24s 191ms/step - loss: 5.5572e-04 - mean_squared_error: 5.5572e-04\n",
            "Epoch 8/100\n",
            "127/127 [==============================] - 24s 190ms/step - loss: 9.2420e-04 - mean_squared_error: 9.2420e-04\n",
            "Epoch 9/100\n",
            "127/127 [==============================] - 24s 191ms/step - loss: 0.0013 - mean_squared_error: 0.0013\n",
            "Epoch 10/100\n",
            "127/127 [==============================] - 24s 190ms/step - loss: 0.0014 - mean_squared_error: 0.0014\n",
            "Epoch 11/100\n",
            "127/127 [==============================] - 24s 191ms/step - loss: 0.0013 - mean_squared_error: 0.0013\n",
            "Epoch 12/100\n",
            "127/127 [==============================] - 24s 192ms/step - loss: 0.0013 - mean_squared_error: 0.0013\n",
            "Epoch 13/100\n",
            "127/127 [==============================] - 24s 191ms/step - loss: 0.0013 - mean_squared_error: 0.0013\n",
            "Epoch 14/100\n",
            "127/127 [==============================] - 24s 191ms/step - loss: 0.0013 - mean_squared_error: 0.0013\n",
            "Epoch 15/100\n",
            "127/127 [==============================] - 24s 189ms/step - loss: 0.0013 - mean_squared_error: 0.0013\n",
            "Epoch 16/100\n",
            "127/127 [==============================] - 24s 189ms/step - loss: 0.0012 - mean_squared_error: 0.0012\n",
            "Epoch 17/100\n",
            "127/127 [==============================] - 24s 190ms/step - loss: 0.0012 - mean_squared_error: 0.0012\n",
            "Epoch 18/100\n",
            "127/127 [==============================] - 24s 191ms/step - loss: 0.0012 - mean_squared_error: 0.0012\n",
            "Epoch 19/100\n",
            "127/127 [==============================] - 24s 190ms/step - loss: 0.0012 - mean_squared_error: 0.0012\n",
            "Epoch 20/100\n",
            "127/127 [==============================] - 24s 191ms/step - loss: 0.0012 - mean_squared_error: 0.0012\n",
            "Epoch 21/100\n",
            "127/127 [==============================] - 24s 191ms/step - loss: 0.0012 - mean_squared_error: 0.0012\n",
            "Epoch 22/100\n",
            "127/127 [==============================] - 24s 190ms/step - loss: 0.0012 - mean_squared_error: 0.0012\n",
            "Epoch 23/100\n",
            "127/127 [==============================] - 24s 190ms/step - loss: 0.0012 - mean_squared_error: 0.0012\n",
            "Epoch 24/100\n",
            "127/127 [==============================] - 24s 188ms/step - loss: 0.0012 - mean_squared_error: 0.0012\n",
            "Epoch 25/100\n",
            "127/127 [==============================] - 24s 190ms/step - loss: 0.0012 - mean_squared_error: 0.0012\n",
            "Epoch 26/100\n",
            "127/127 [==============================] - 24s 190ms/step - loss: 0.0012 - mean_squared_error: 0.0012\n",
            "Epoch 27/100\n",
            "127/127 [==============================] - 24s 190ms/step - loss: 0.0012 - mean_squared_error: 0.0012\n",
            "Epoch 28/100\n",
            "127/127 [==============================] - 24s 191ms/step - loss: 0.0011 - mean_squared_error: 0.0011\n",
            "Epoch 29/100\n",
            "127/127 [==============================] - 24s 190ms/step - loss: 0.0011 - mean_squared_error: 0.0011\n",
            "Epoch 30/100\n",
            "127/127 [==============================] - 24s 189ms/step - loss: 0.0012 - mean_squared_error: 0.0012\n",
            "Epoch 31/100\n",
            "127/127 [==============================] - 24s 190ms/step - loss: 0.0012 - mean_squared_error: 0.0012\n",
            "Epoch 32/100\n",
            "127/127 [==============================] - 24s 188ms/step - loss: 0.0012 - mean_squared_error: 0.0012\n",
            "Epoch 33/100\n",
            "127/127 [==============================] - 24s 189ms/step - loss: 0.0012 - mean_squared_error: 0.0012\n",
            "Epoch 34/100\n",
            "127/127 [==============================] - 24s 189ms/step - loss: 0.0011 - mean_squared_error: 0.0011\n",
            "Epoch 35/100\n",
            "127/127 [==============================] - 24s 189ms/step - loss: 0.0011 - mean_squared_error: 0.0011\n",
            "Epoch 36/100\n",
            "127/127 [==============================] - 24s 189ms/step - loss: 0.0011 - mean_squared_error: 0.0011\n",
            "Epoch 37/100\n",
            "127/127 [==============================] - 24s 190ms/step - loss: 0.0011 - mean_squared_error: 0.0011\n",
            "Epoch 38/100\n",
            "127/127 [==============================] - 24s 189ms/step - loss: 0.0011 - mean_squared_error: 0.0011\n",
            "Epoch 39/100\n",
            "127/127 [==============================] - 24s 188ms/step - loss: 0.0011 - mean_squared_error: 0.0011\n",
            "Epoch 40/100\n",
            "127/127 [==============================] - 24s 188ms/step - loss: 0.0011 - mean_squared_error: 0.0011\n",
            "Epoch 41/100\n",
            "127/127 [==============================] - 24s 189ms/step - loss: 0.0011 - mean_squared_error: 0.0011\n",
            "Epoch 42/100\n",
            "127/127 [==============================] - 24s 188ms/step - loss: 0.0012 - mean_squared_error: 0.0012\n",
            "Epoch 43/100\n",
            "127/127 [==============================] - 24s 188ms/step - loss: 0.0011 - mean_squared_error: 0.0011\n",
            "Epoch 44/100\n",
            "127/127 [==============================] - 24s 189ms/step - loss: 0.0011 - mean_squared_error: 0.0011\n",
            "Epoch 45/100\n",
            "127/127 [==============================] - 24s 188ms/step - loss: 0.0011 - mean_squared_error: 0.0011\n",
            "Epoch 46/100\n",
            "127/127 [==============================] - 24s 187ms/step - loss: 0.0011 - mean_squared_error: 0.0011\n",
            "Epoch 47/100\n",
            "127/127 [==============================] - 24s 189ms/step - loss: 0.0011 - mean_squared_error: 0.0011\n",
            "Epoch 48/100\n",
            "127/127 [==============================] - 24s 188ms/step - loss: 0.0011 - mean_squared_error: 0.0011\n",
            "Epoch 49/100\n",
            "127/127 [==============================] - 24s 189ms/step - loss: 0.0011 - mean_squared_error: 0.0011\n",
            "Epoch 50/100\n",
            "127/127 [==============================] - 24s 189ms/step - loss: 0.0012 - mean_squared_error: 0.0012\n",
            "Epoch 51/100\n",
            "127/127 [==============================] - 24s 190ms/step - loss: 0.0011 - mean_squared_error: 0.0011\n",
            "Epoch 52/100\n",
            "127/127 [==============================] - 24s 190ms/step - loss: 0.0011 - mean_squared_error: 0.0011\n",
            "Epoch 53/100\n",
            "127/127 [==============================] - 24s 191ms/step - loss: 0.0011 - mean_squared_error: 0.0011\n",
            "Epoch 54/100\n",
            "127/127 [==============================] - 24s 191ms/step - loss: 0.0011 - mean_squared_error: 0.0011\n",
            "Epoch 55/100\n",
            "127/127 [==============================] - 24s 191ms/step - loss: 0.0011 - mean_squared_error: 0.0011\n",
            "Epoch 56/100\n",
            "127/127 [==============================] - 24s 189ms/step - loss: 0.0011 - mean_squared_error: 0.0011\n",
            "Epoch 57/100\n",
            "127/127 [==============================] - 24s 190ms/step - loss: 0.0012 - mean_squared_error: 0.0012\n",
            "Epoch 58/100\n",
            "127/127 [==============================] - 24s 191ms/step - loss: 0.0011 - mean_squared_error: 0.0011\n",
            "Epoch 59/100\n",
            "127/127 [==============================] - 24s 189ms/step - loss: 0.0011 - mean_squared_error: 0.0011\n",
            "Epoch 60/100\n",
            "127/127 [==============================] - 24s 191ms/step - loss: 0.0012 - mean_squared_error: 0.0012\n",
            "Epoch 61/100\n",
            "127/127 [==============================] - 24s 190ms/step - loss: 0.0011 - mean_squared_error: 0.0011\n",
            "Epoch 62/100\n",
            "127/127 [==============================] - 24s 190ms/step - loss: 0.0012 - mean_squared_error: 0.0012\n",
            "Epoch 63/100\n",
            "127/127 [==============================] - 24s 189ms/step - loss: 0.0011 - mean_squared_error: 0.0011\n",
            "Epoch 64/100\n",
            "127/127 [==============================] - 24s 189ms/step - loss: 0.0012 - mean_squared_error: 0.0012\n",
            "Epoch 65/100\n",
            "127/127 [==============================] - 24s 190ms/step - loss: 0.0012 - mean_squared_error: 0.0012\n",
            "Epoch 66/100\n",
            "127/127 [==============================] - 24s 190ms/step - loss: 0.0011 - mean_squared_error: 0.0011\n",
            "Epoch 67/100\n",
            "127/127 [==============================] - 24s 190ms/step - loss: 0.0011 - mean_squared_error: 0.0011\n",
            "Epoch 68/100\n",
            "127/127 [==============================] - 24s 189ms/step - loss: 0.0012 - mean_squared_error: 0.0012\n",
            "Epoch 69/100\n",
            "127/127 [==============================] - 24s 188ms/step - loss: 0.0011 - mean_squared_error: 0.0011\n",
            "Epoch 70/100\n",
            "127/127 [==============================] - 24s 190ms/step - loss: 0.0011 - mean_squared_error: 0.0011\n",
            "Epoch 71/100\n",
            "127/127 [==============================] - 24s 189ms/step - loss: 0.0011 - mean_squared_error: 0.0011\n",
            "Epoch 72/100\n",
            "127/127 [==============================] - 24s 190ms/step - loss: 0.0011 - mean_squared_error: 0.0011\n",
            "Epoch 73/100\n",
            "127/127 [==============================] - 24s 191ms/step - loss: 0.0012 - mean_squared_error: 0.0012\n",
            "Epoch 74/100\n",
            "127/127 [==============================] - 24s 189ms/step - loss: 0.0012 - mean_squared_error: 0.0012\n",
            "Epoch 75/100\n",
            "127/127 [==============================] - 24s 191ms/step - loss: 0.0012 - mean_squared_error: 0.0012\n",
            "Epoch 76/100\n",
            "127/127 [==============================] - 24s 189ms/step - loss: 0.0012 - mean_squared_error: 0.0012\n",
            "Epoch 77/100\n",
            "127/127 [==============================] - 24s 190ms/step - loss: 0.0011 - mean_squared_error: 0.0011\n",
            "Epoch 78/100\n",
            "127/127 [==============================] - 24s 191ms/step - loss: 0.0012 - mean_squared_error: 0.0012\n",
            "Epoch 79/100\n",
            "127/127 [==============================] - 24s 192ms/step - loss: 0.0012 - mean_squared_error: 0.0012\n",
            "Epoch 80/100\n",
            "127/127 [==============================] - 24s 191ms/step - loss: 0.0012 - mean_squared_error: 0.0012\n",
            "Epoch 81/100\n",
            "127/127 [==============================] - 24s 190ms/step - loss: 0.0012 - mean_squared_error: 0.0012\n",
            "Epoch 82/100\n",
            "127/127 [==============================] - 24s 189ms/step - loss: 0.0012 - mean_squared_error: 0.0012\n",
            "Epoch 83/100\n",
            "127/127 [==============================] - 24s 190ms/step - loss: 0.0012 - mean_squared_error: 0.0012\n",
            "Epoch 84/100\n",
            "127/127 [==============================] - 24s 190ms/step - loss: 0.0012 - mean_squared_error: 0.0012\n",
            "Epoch 85/100\n",
            "127/127 [==============================] - 24s 189ms/step - loss: 0.0012 - mean_squared_error: 0.0012\n",
            "Epoch 86/100\n",
            "127/127 [==============================] - 24s 189ms/step - loss: 0.0012 - mean_squared_error: 0.0012\n",
            "Epoch 87/100\n",
            "127/127 [==============================] - 24s 191ms/step - loss: 0.0012 - mean_squared_error: 0.0012\n",
            "Epoch 88/100\n",
            "127/127 [==============================] - 24s 189ms/step - loss: 0.0012 - mean_squared_error: 0.0012\n",
            "Epoch 89/100\n",
            "127/127 [==============================] - 24s 189ms/step - loss: 0.0012 - mean_squared_error: 0.0012\n",
            "Epoch 90/100\n",
            "127/127 [==============================] - 24s 191ms/step - loss: 0.0012 - mean_squared_error: 0.0012\n",
            "Epoch 91/100\n",
            "127/127 [==============================] - 24s 191ms/step - loss: 0.0012 - mean_squared_error: 0.0012\n",
            "Epoch 92/100\n",
            "127/127 [==============================] - 24s 190ms/step - loss: 0.0012 - mean_squared_error: 0.0012\n",
            "Epoch 93/100\n",
            "127/127 [==============================] - 24s 191ms/step - loss: 0.0012 - mean_squared_error: 0.0012\n",
            "Epoch 94/100\n",
            "127/127 [==============================] - 24s 189ms/step - loss: 0.0012 - mean_squared_error: 0.0012\n",
            "Epoch 95/100\n",
            "127/127 [==============================] - 24s 190ms/step - loss: 0.0012 - mean_squared_error: 0.0012\n",
            "Epoch 96/100\n",
            "127/127 [==============================] - 24s 189ms/step - loss: 0.0012 - mean_squared_error: 0.0012\n",
            "Epoch 97/100\n",
            "127/127 [==============================] - 24s 190ms/step - loss: 0.0012 - mean_squared_error: 0.0012\n",
            "Epoch 98/100\n",
            "127/127 [==============================] - 24s 190ms/step - loss: 0.0012 - mean_squared_error: 0.0012\n",
            "Epoch 99/100\n",
            "127/127 [==============================] - 24s 190ms/step - loss: 0.0012 - mean_squared_error: 0.0012\n",
            "Epoch 100/100\n",
            "127/127 [==============================] - 24s 190ms/step - loss: 0.0012 - mean_squared_error: 0.0012\n"
          ]
        },
        {
          "output_type": "execute_result",
          "data": {
            "text/plain": [
              "<keras.callbacks.History at 0x7f14d8b5c1d0>"
            ]
          },
          "metadata": {},
          "execution_count": 62
        }
      ]
    },
    {
      "cell_type": "code",
      "metadata": {
        "id": "sQkNVEzHY8-4"
      },
      "source": [
        "test_predict=model.predict(X_test)"
      ],
      "id": "sQkNVEzHY8-4",
      "execution_count": 63,
      "outputs": []
    },
    {
      "cell_type": "code",
      "metadata": {
        "id": "KbsP29BbY8-6",
        "outputId": "1b190408-cfd5-4fc3-e089-94d0721c280f",
        "colab": {
          "base_uri": "https://localhost:8080/"
        }
      },
      "source": [
        "print(f'MSE {mean_squared_error(y_test, test_predict)}')\n",
        "print(f'R2 {r2_score(y_test, test_predict)}')"
      ],
      "id": "KbsP29BbY8-6",
      "execution_count": 64,
      "outputs": [
        {
          "output_type": "stream",
          "name": "stdout",
          "text": [
            "MSE 0.14014362380335962\n",
            "R2 -1.9219392509088609\n"
          ]
        }
      ]
    },
    {
      "cell_type": "code",
      "metadata": {
        "id": "XZ_BsFouY8-6"
      },
      "source": [
        ""
      ],
      "id": "XZ_BsFouY8-6",
      "execution_count": 64,
      "outputs": []
    },
    {
      "cell_type": "code",
      "metadata": {
        "id": "dUJ3b9gLY8-7"
      },
      "source": [
        "test_predict=scaler.inverse_transform(test_predict)\n",
        "train_predict=model.predict(X_train)\n",
        "train_predict=scaler.inverse_transform(train_predict)"
      ],
      "id": "dUJ3b9gLY8-7",
      "execution_count": 65,
      "outputs": []
    },
    {
      "cell_type": "code",
      "metadata": {
        "id": "4oVarU-7Y8-9"
      },
      "source": [
        "look_back=100\n",
        "trainPredictPlot = np.empty_like(df1)\n",
        "trainPredictPlot[:, :] = np.nan\n",
        "trainPredictPlot[look_back:len(train_predict)+look_back, :] = train_predict\n",
        "\n",
        "testPredictPlot = np.empty_like(df1)\n",
        "testPredictPlot[:, :] = np.nan\n",
        "testPredictPlot[len(train_predict)+(look_back*2)+1:len(df1)-1, :] = test_predict"
      ],
      "id": "4oVarU-7Y8-9",
      "execution_count": 66,
      "outputs": []
    },
    {
      "cell_type": "code",
      "metadata": {
        "id": "n7dADGJpY8-_",
        "outputId": "daff3a6f-bac8-47bb-de28-b5b2db309d50",
        "colab": {
          "base_uri": "https://localhost:8080/",
          "height": 485
        }
      },
      "source": [
        "plt.figure(figsize=(20,8))\n",
        "plt.plot(scaler.inverse_transform(df1),label='Main dataset')\n",
        "plt.plot(trainPredictPlot,label='Train dataset')\n",
        "plt.plot(testPredictPlot,label='Test dataset')\n",
        "plt.legend()"
      ],
      "id": "n7dADGJpY8-_",
      "execution_count": 67,
      "outputs": [
        {
          "output_type": "execute_result",
          "data": {
            "text/plain": [
              "<matplotlib.legend.Legend at 0x7f14d8bb1cd0>"
            ]
          },
          "metadata": {},
          "execution_count": 67
        },
        {
          "output_type": "display_data",
          "data": {
            "image/png": "[encoded data removed]",
            "text/plain": [
              "<Figure size 1440x576 with 1 Axes>"
            ]
          },
          "metadata": {
            "needs_background": "light"
          }
        }
      ]
    },
    {
      "cell_type": "code",
      "metadata": {
        "id": "IV5mM8DmY8_A"
      },
      "source": [
        "x_input=df1[len(df1)-100:].reshape(1,-1)"
      ],
      "id": "IV5mM8DmY8_A",
      "execution_count": 68,
      "outputs": []
    },
    {
      "cell_type": "code",
      "metadata": {
        "id": "sUzRMMXSY8_B"
      },
      "source": [
        "x_input = x_input.reshape((1, 100,1))\n",
        "y_predict = model.predict(x_input, verbose=0)\n",
        "next_day_value = scaler.inverse_transform(y_predict)"
      ],
      "id": "sUzRMMXSY8_B",
      "execution_count": 69,
      "outputs": []
    },
    {
      "cell_type": "code",
      "metadata": {
        "id": "IIxoN9hxY8_C",
        "outputId": "1f740436-d83b-4c6c-d46c-2d603b256e27",
        "colab": {
          "base_uri": "https://localhost:8080/"
        }
      },
      "source": [
        "next_day_value"
      ],
      "id": "IIxoN9hxY8_C",
      "execution_count": 70,
      "outputs": [
        {
          "output_type": "execute_result",
          "data": {
            "text/plain": [
              "array([[5.2165647]], dtype=float32)"
            ]
          },
          "metadata": {},
          "execution_count": 70
        }
      ]
    },
    {
      "cell_type": "markdown",
      "metadata": {
        "id": "g2Kz709tY8_D"
      },
      "source": [
        "Next day - low price - 124.88(USD)"
      ],
      "id": "g2Kz709tY8_D"
    }
  ]
}