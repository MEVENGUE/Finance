{
  "nbformat": 4,
  "nbformat_minor": 0,
  "metadata": {
    "colab": {
      "name": "Backtesterstrategy.ipynb",
      "provenance": []
    },
    "kernelspec": {
      "name": "python3",
      "display_name": "Python 3"
    },
    "language_info": {
      "name": "python"
    }
  },
  "cells": [
    {
      "cell_type": "code",
      "metadata": {
        "colab": {
          "base_uri": "https://localhost:8080/"
        },
        "id": "osgPG9QcSUlj",
        "outputId": "fa39e457-2eba-453a-b5b9-a22299bb8a97"
      },
      "source": [
        "import requests \n",
        "import pandas as pd \n",
        "import numpy as np \n",
        "\n",
        "api_key = 'e22c368541904516c60dfa05148ef976'\n",
        "\n",
        "stock = 'AAPL'\n",
        "stockprices = requests.get(f'https://financialmodelingprep.com/api/v3/historical-price-full/{stock}?serietype=line&apikey={api_key}').json()\n",
        "\n",
        "stockprices = stockprices['historical'][0:1200]\n",
        "\n",
        "stockprices = pd.DataFrame.from_dict(stockprices)\n",
        "stockprices = stockprices.set_index('date')\n",
        "\n",
        "stockprices = stockprices.iloc[::-1]\n",
        "\n",
        "stockprices['20d'] = stockprices['close'].rolling(20).mean() \n",
        "\n",
        "\n",
        "stockprices['return'] = np.log(stockprices['close'] / stockprices['close'].shift(1) )\n",
        "\n",
        "\n",
        "stockprices['difference'] = stockprices['close'] - stockprices['20d']\n",
        "\n",
        "stockprices['long'] = np.where(stockprices['difference'] < -2 ,1,np.nan)\n",
        "stockprices['long'] = np.where(stockprices['difference'] * stockprices['difference'].shift(1) < 0, 0, stockprices['long'])\n",
        "stockprices['long'] = stockprices['long'].ffill().fillna(0)\n",
        "\n",
        "stockprices['gain_loss'] = stockprices['long'].shift(1) * stockprices['return']\n",
        "stockprices = stockprices.dropna(subset=['20d'])\n",
        "\n",
        "stockprices['total'] =  stockprices['gain_loss'].cumsum()\n",
        "print(stockprices.tail(30))"
      ],
      "execution_count": 1,
      "outputs": [
        {
          "output_type": "stream",
          "name": "stdout",
          "text": [
            "                 close         20d    return  ...  long  gain_loss     total\n",
            "date                                          ...                           \n",
            "2021-09-30  141.500000  148.096000 -0.009355  ...   1.0  -0.009355 -0.143274\n",
            "2021-10-01  142.649994  147.546000  0.008094  ...   1.0   0.008094 -0.135180\n",
            "2021-10-04  139.139999  146.788000 -0.024913  ...   1.0  -0.024913 -0.160094\n",
            "2021-10-05  141.110001  146.009000  0.014059  ...   1.0   0.014059 -0.146034\n",
            "2021-10-06  142.000000  145.353500  0.006287  ...   1.0   0.006287 -0.139747\n",
            "2021-10-07  143.289993  144.814499  0.009043  ...   1.0   0.009043 -0.130704\n",
            "2021-10-08  142.899994  144.510999 -0.002725  ...   1.0  -0.002725 -0.133429\n",
            "2021-10-11  142.809998  144.173998 -0.000630  ...   1.0  -0.000630 -0.134059\n",
            "2021-10-12  141.509995  143.843498 -0.009145  ...   1.0  -0.009145 -0.143204\n",
            "2021-10-13  140.910004  143.437499 -0.004249  ...   1.0  -0.004249 -0.147453\n",
            "2021-10-14  143.759995  143.185999  0.020024  ...   0.0   0.020024 -0.127429\n",
            "2021-10-15  144.839996  143.124999  0.007484  ...   0.0   0.000000 -0.127429\n",
            "2021-10-18  146.550003  143.305499  0.011737  ...   0.0   0.000000 -0.127429\n",
            "2021-10-19  148.759995  143.571999  0.014968  ...   0.0   0.000000 -0.127429\n",
            "2021-10-20  149.259995  143.742498  0.003355  ...   0.0   0.000000 -0.127429\n",
            "2021-10-21  149.479996  143.874998  0.001473  ...   0.0   0.000000 -0.127429\n",
            "2021-10-22  148.690002  143.963498 -0.005299  ...   0.0  -0.000000 -0.127429\n",
            "2021-10-25  148.639999  144.126998 -0.000336  ...   0.0  -0.000000 -0.127429\n",
            "2021-10-26  149.320007  144.497498  0.004564  ...   0.0   0.000000 -0.127429\n",
            "2021-10-27  148.850006  144.798499 -0.003153  ...   0.0  -0.000000 -0.127429\n",
            "2021-10-28  152.570007  145.351999  0.024684  ...   0.0   0.000000 -0.127429\n",
            "2021-10-29  149.800003  145.709499 -0.018322  ...   0.0  -0.000000 -0.127429\n",
            "2021-11-01  148.960007  146.200500 -0.005623  ...   0.0  -0.000000 -0.127429\n",
            "2021-11-02  150.020004  146.646000  0.007091  ...   0.0   0.000000 -0.127429\n",
            "2021-11-03  151.490005  147.120500  0.009751  ...   0.0   0.000000 -0.127429\n",
            "2021-11-04  150.960007  147.504001 -0.003505  ...   0.0  -0.000000 -0.127429\n",
            "2021-11-05  151.279999  147.923001  0.002117  ...   0.0   0.000000 -0.127429\n",
            "2021-11-08  150.440000  148.304501 -0.005568  ...   0.0  -0.000000 -0.127429\n",
            "2021-11-09  150.810000  148.769501  0.002456  ...   0.0   0.000000 -0.127429\n",
            "2021-11-10  147.920000  149.120001 -0.019349  ...   0.0  -0.000000 -0.127429\n",
            "\n",
            "[30 rows x 7 columns]\n"
          ]
        },
        {
          "output_type": "stream",
          "name": "stderr",
          "text": [
            "/usr/local/lib/python3.7/dist-packages/ipykernel_launcher.py:32: SettingWithCopyWarning: \n",
            "A value is trying to be set on a copy of a slice from a DataFrame.\n",
            "Try using .loc[row_indexer,col_indexer] = value instead\n",
            "\n",
            "See the caveats in the documentation: https://pandas.pydata.org/pandas-docs/stable/user_guide/indexing.html#returning-a-view-versus-a-copy\n"
          ]
        }
      ]
    }
  ]
}